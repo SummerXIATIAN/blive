{
 "cells": [
  {
   "cell_type": "code",
   "execution_count": 6,
   "metadata": {},
   "outputs": [],
   "source": [
    "import pandas as pd\n",
    "import json\n",
    "import igraph as ig\n",
    "import matplotlib.pyplot as plt\n",
    "import numpy as np\n",
    "import leidenalg as la"
   ]
  },
  {
   "cell_type": "code",
   "execution_count": 34,
   "metadata": {},
   "outputs": [],
   "source": [
    "def data_processing(df):\n",
    "    df = df.sort_values('percentage',ascending=False)\n",
    "    df = df.reset_index(drop=True)\n",
    "\n",
    "    ## Add src's & dst's mid information\n",
    "    df_info = pd.read_csv(\"data/streamer_info.csv\")\n",
    "    df_info = df_info[['uname','mid']]\n",
    "\n",
    "    df = pd.merge(df,df_info,how='left',left_on='src',right_on='uname')\n",
    "    df = pd.merge(df,df_info,how='left',left_on='dst',right_on='uname')\n",
    "\n",
    "    ## Calculate the reverse of percentage from dst to src\n",
    "    dict_followers = dict(zip(df.src, df.followers))\n",
    "    df['followers_dst'] = df['dst'].map(dict_followers)\n",
    "    df['percentage_reverse'] = df.apply(lambda x: round(x['count'] / dict_followers[x['dst']],3), axis=1)\n",
    "\n",
    "    ## Rename columns\n",
    "    df = df[['src', 'dst', 'count', 'type', 'followers', 'percentage', 'percentage_reverse', 'mid_x', 'mid_y','followers_dst']]\n",
    "    return df\n",
    "\n",
    "def data_selection(df, threshold=[200,20,0.05]):\n",
    "    '''function to select data based on threshold\n",
    "    threshold = [followers, count, percentage]\n",
    "    '''\n",
    "    data = df[(df['followers']>1000) & (df['followers_dst']>1000)]\n",
    "    data = data[(data['count']>20)]\n",
    "    data = data[(data['percentage']>0.03)]\n",
    "    # data = data[(data['percentage']>0.05) & (data['percentage_inv']>0.05)]\n",
    "    # data = data[(data['percentage']>0.05) | (data['percentage_inv']>0.05)]\n",
    "    # data = data[['src','dst','count','percentage']]\n",
    "    return data"
   ]
  },
  {
   "cell_type": "code",
   "execution_count": 35,
   "metadata": {},
   "outputs": [],
   "source": [
    "df = pd.read_csv(\"data/result.csv\")\n",
    "df = data_processing(df)\n",
    "data = data_selection(df)\n",
    "data.to_excel(\"data/一周data截止20231223.xlsx\",index=False)"
   ]
  },
  {
   "cell_type": "code",
   "execution_count": 23,
   "metadata": {},
   "outputs": [
    {
     "name": "stdout",
     "output_type": "stream",
     "text": [
      "Number of nodes:  224\n"
     ]
    }
   ],
   "source": [
    "## Create graph\n",
    "print(\"Number of nodes: \", len(data['src'].unique()))\n",
    "tuples = [tuple(x) for x in data[['src','dst','percentage']].values]\n",
    "Gm = ig.Graph.TupleList(tuples, directed = True, edge_attrs = ['percentage'])"
   ]
  },
  {
   "cell_type": "code",
   "execution_count": 24,
   "metadata": {},
   "outputs": [
    {
     "name": "stderr",
     "output_type": "stream",
     "text": [
      "740it [00:04, 167.74it/s, resolution_parameter=0.00123]\n"
     ]
    }
   ],
   "source": [
    "## Clustering by CPM (Community Preserving Modularity) using optimiser\n",
    "optimiser = la.Optimiser()\n",
    "profile = optimiser.resolution_profile(Gm, la.CPMVertexPartition, resolution_range=(0,1))"
   ]
  },
  {
   "cell_type": "code",
   "execution_count": 25,
   "metadata": {},
   "outputs": [
    {
     "data": {
      "text/plain": [
       "126"
      ]
     },
     "execution_count": 25,
     "metadata": {},
     "output_type": "execute_result"
    }
   ],
   "source": [
    "len(profile)"
   ]
  },
  {
   "cell_type": "code",
   "execution_count": 30,
   "metadata": {},
   "outputs": [
    {
     "name": "stdout",
     "output_type": "stream",
     "text": [
      "resultion: 0.6573, modularity: 0.12316\n",
      "Clustering with 229 elements and 76 clusters\n",
      "[ 0] 宣小纸不怕火, 呜米, 咩栗, 卡缇娅也不知道鸭, 小可学妹, 伊索尔Sol, 东爱璃Lovely, 李豆沙_Channel, 星汐Seki,\n",
      "     礼墨Sumi, 红晓音Akane, 帅比笙歌超可爱OvO, 吉诺儿kino, 露蒂丝, 黎歌Neeko, 雪狐桑, 美月もも, 桃几OvO,\n",
      "     雾深Girimi, 艾因Eine, 秋凛子Rinco, HiiroVTuber, 桃姆Q吃手手, 雪绘Yukie, 艾露露Ailurus,\n",
      "     小柔Channel, 杜松子_Gin, 扇宝, 希月萌奈, 花花Haya, 茉吱Mojuko, 花园Serena, 穆小泠Official,\n",
      "     折原露露, 白神遥Haruka, 星宮汐Official, 早稻叽, 小桃Channel, 钉宫妮妮Ninico, 蕾尔娜Leona, 早凉,\n",
      "     梦音茶糯, 小铃久绘Official, 黑泽诺亚NOIR, 兰音Reine, 艾尔莎_Channel, 奈姬niki, 冥冥meichan,\n",
      "     还有醒着的么, 陆鳐LuLu\n",
      "[ 1] 心宜不是心仪, 嘉然今天吃什么, 露米Lumi_Official, 贝拉kira, 思诺snow, 向晚大魔王, 虞莫MOMO, 莞儿睡不醒,\n",
      "     乃琳Queen, 又一充电中, 沐霂是MUMU呀, 恬豆发芽了, 梨安不迷路, 露早GOGO, 柚恩不加糖, 米诺高分少女, 河黎有片小叶子,\n",
      "     七海Nana7mi, 永雏塔菲, 安可anko_Official, 星瞳_Official, 明前奶绿, 牧牧白miiu\n",
      "[ 2] 古守血遊official, 眞白花音_Official, 椎名菜羽Official, 乙女音Official, 魔狼咪莉娅,\n",
      "     夢乃栞Yumeno_Shiori, 雫るる_Official, 九重紫Official, 夏诺雅_shanoa,\n",
      "     猫雷NyaRu_Official, 花丸晴琉Official, 神楽Mea_Official, 猫宫心爱\n",
      "[ 3] 烤鱼子Official, 少年Pi, Yommyko, C酱です, 奶茶姬, 鸽一品, 奶茶☆, 巴老师的小号, 神奇陆夫人\n",
      "[ 4] 花园花玲, shourei小N, 多多poi丶, 宴宁ccccc, 泠鸢yousa, 小缘, hanser, 紫苏九月, 自由魂儿儿儿\n",
      "[ 5] 悠亚Yua, 岁己SUI, 弥希Miki, 栞栞Shiori, 海月薰kaoru, 瑞娅_Rhea, 薇Steria, 米汀Nagisa,\n",
      "     中单光一\n",
      "[ 6] Afaer-林亚Raenia, Afaer-吕和今Asota, Afaer-伊梦Eligo, Afaer-展麟Finn, MizunoAki,\n",
      "     杜铂雷Dobre, 虚拟小萨\n",
      "[ 7] 中国BOY超级大猩猩, 花少北丶, 某幻君, 老番茄, LexBurner, 逍遥散人\n",
      "[ 8] 露娜Luna_Official, 永恒娘Official, dodo_Official, 妮莉安Lily, 说说Crystal\n",
      "[ 9] Kyo_ow, ameng梦梦梦, Spark-GUXUE, HZS-Leave\n",
      "[10] LGDPYL116, 赵俊日, Langx919, 解说Mage\n",
      "[11] 文韬Stefan, 蒲熠星, KB呆又呆\n",
      "[12] 大祥哥来了, 棉花大哥哥, 卡特亚\n",
      "[13] 東雪蓮Official, 尼奈nine_Official, 鲸鱼娘西丝特official\n",
      "[14] 月隐空夜, 木糖纯Official, 依然小智\n",
      "[15] 凉哈皮, OldBa1, 老骚豆腐\n",
      "[16] 烛灵儿Hikari, 织月黛黛, 希丝奈cisne\n",
      "[17] 一只小仙若, 小深深儿, 王筱沫沫丶\n",
      "[18] 蒋芸Mirai, 天草丶柑橘王\n",
      "[19] 雪糕cheese, 棋手战鹰\n",
      "[20] 飞天狙想要努力变胖, 甜药Jamren\n",
      "[21] 祖娅纳惜, 三无Marblue\n",
      "[22] 菠萝赛东°, Asaki大人\n",
      "[23] 瓶子君152, 泛式\n",
      "[24] 黑猫大少爷, 大炒面制造者Cen\n",
      "[25] 妙妙子Official, 蕾蕾大表哥\n",
      "[26] 阿梓从小就很可爱, 阿萨Aza\n",
      "[27] 黑桐谷歌, -纯黑-\n",
      "[28] 露露自信一点, 叫我肘子哇\n",
      "[29] LIGhtYgo\n",
      "[30] 老实憨厚的笑笑\n",
      "[31] 正直少年李发卡\n",
      "[32] 泰蕾莎Channel\n",
      "[33] 安晴Ankii\n",
      "[34] Akie秋绘\n",
      "[35] 五月织姬ctsu\n",
      "[36] 魔法Zc目录\n",
      "[37] 龙哥哥今天又鸽了\n",
      "[38] 花辞鸢树serein\n",
      "[39] 小紫才没有摸鱼\n",
      "[40] 阿噗的快乐生活\n",
      "[41] 企鹅带带北极熊\n",
      "[42] sh7adow\n",
      "[43] 小绝\n",
      "[44] EdmundDZhang\n",
      "[45] 塔克Tako\n",
      "[46] 灰烬丶Alex\n",
      "[47] 老师好我叫飞莎儿\n",
      "[48] v猫诺v\n",
      "[49] 吹散z\n",
      "[50] 痒局长\n",
      "[51] 杆菌无敌\n",
      "[52] 氿氿ayumiko\n",
      "[53] Ame-__-\n",
      "[54] 不知原深\n",
      "[55] 许琪i\n",
      "[56] 田中姬铃木雏Official\n",
      "[57] 时雨ioo\n",
      "[58] 炫神_\n",
      "[59] 雨中Neo\n",
      "[60] Leah莉娅又迟到啦\n",
      "[61] 诺子喵呜\n",
      "[62] 夏露露Ruru\n",
      "[63] 两仪滚\n",
      "[64] 菜菜姐莎疯了\n",
      "[65] Liyuu_\n",
      "[66] RO姬_Official\n",
      "[67] 绝不早到小吱吱\n",
      "[68] __小黄瓜__\n",
      "[69] 泪腺战士\n",
      "[70] 狗狗狗雨\n",
      "[71] 坂坂白\n",
      "[72] 丧妹有点跳\n",
      "[73] Kiki向前冲呀\n",
      "[74] 陈哥1\n",
      "[75] 天天Ame\n"
     ]
    }
   ],
   "source": [
    "## Select the best partition\n",
    "partition = profile[113] # manually select\n",
    "# partition = profile[summary['modularity'].index(max(summary['modularity']))]\n",
    "print(f\"resultion: {round(partition.resolution_parameter,4)}, modularity: {round(partition.modularity,5)}\")\n",
    "print(partition)"
   ]
  },
  {
   "cell_type": "code",
   "execution_count": null,
   "metadata": {},
   "outputs": [],
   "source": []
  }
 ],
 "metadata": {
  "kernelspec": {
   "display_name": "base",
   "language": "python",
   "name": "python3"
  },
  "language_info": {
   "codemirror_mode": {
    "name": "ipython",
    "version": 3
   },
   "file_extension": ".py",
   "mimetype": "text/x-python",
   "name": "python",
   "nbconvert_exporter": "python",
   "pygments_lexer": "ipython3",
   "version": "3.9.13"
  }
 },
 "nbformat": 4,
 "nbformat_minor": 2
}
